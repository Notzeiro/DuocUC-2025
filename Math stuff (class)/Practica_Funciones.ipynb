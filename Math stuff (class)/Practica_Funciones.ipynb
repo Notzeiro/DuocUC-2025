{
 "cells": [
  {
   "cell_type": "markdown",
   "metadata": {},
   "source": [
    "## Práctica Funciones en Python"
   ]
  },
  {
   "cell_type": "markdown",
   "metadata": {},
   "source": [
    "Se le entregan las siguientes 3 funciones, cuyo dominio son todos los números reales entre -1 y 10:\n",
    "\n",
    "**Función 1**: $$f(x) = x^{2}-2x+7$$\n",
    "\n",
    "**Función 2**: $$g(x) = 3x+9$$\n",
    "\n",
    "**Función 3**: $$h(x) = 2e^{0.4x}$$"
   ]
  },
  {
   "cell_type": "markdown",
   "metadata": {},
   "source": [
    "## Actividades\n"
   ]
  },
  {
   "cell_type": "markdown",
   "metadata": {},
   "source": [
    "1. Defina las 3 funciones en Python. Calcule la imagen de $$x=6$$ en cada una de ellas."
   ]
  },
  {
   "cell_type": "code",
   "execution_count": 10,
   "metadata": {},
   "outputs": [
    {
     "name": "stdout",
     "output_type": "stream",
     "text": [
      "El valor de x para cada funcion es: \n",
      "El valor para la funcion n°1 es de 31\n",
      "El valor para la funcion n°2 es de 27\n",
      "El valor para la funcion n°3 es de 22.05\n"
     ]
    }
   ],
   "source": [
    "import numpy as np\n",
    "from sympy import Eq , solve , symbols , exp\n",
    "\n",
    "x = symbols(\"x\")\n",
    "\n",
    "def f(x):\n",
    "    return (x**2) - (2*x) + 7\n",
    "\n",
    "def g(x):\n",
    "    return (3*x) + 9\n",
    "\n",
    "def h(x):\n",
    "    return round(2 * exp(0.4*x) , 2)\n",
    "    \n",
    "\n",
    "print(\"El valor de x para cada funcion es: \")\n",
    "print(f\"El valor para la funcion n°1 es de {f(6)}\")\n",
    "print(f\"El valor para la funcion n°2 es de {g(6)}\")\n",
    "print(f\"El valor para la funcion n°3 es de {h(6)}\")\n",
    "\n"
   ]
  },
  {
   "cell_type": "markdown",
   "metadata": {},
   "source": [
    "2. Calcule la preimagen de $$y=20$$ en cada una de ellas."
   ]
  },
  {
   "cell_type": "code",
   "execution_count": null,
   "metadata": {},
   "outputs": [
    {
     "name": "stdout",
     "output_type": "stream",
     "text": [
      "La preimagen de 20 para la funcion n°1 es [-4.29, 6.29]\n",
      "La preimagen de 20 para la funcion n°2 es [3.67]\n",
      "La preimagen de 20 para la funcion n°3 es [5.76, 5.76 + 15.71*I]\n"
     ]
    }
   ],
   "source": [
    "import numpy as np\n",
    "from sympy import Eq , solve , symbols , exp , evalf\n",
    "\n",
    "x = symbols(\"x\")\n",
    "\n",
    "def f(x):\n",
    "    return (x**2) - (2*x) - 7\n",
    "\n",
    "def g(x):\n",
    "    return (3*x) + 9\n",
    "\n",
    "def h(x):\n",
    "    return 2 * exp(0.4*x)\n",
    "    \n",
    "\n",
    "# print(\"El valor de x para cada funcion es: \")\n",
    "# print(f\"El valor para la funcion n°1 es de {f(6)}\")\n",
    "# print(f\"El valor para la funcion n°2 es de {g(6)}\")\n",
    "# print(f\"El valor para la funcion n°3 es de {h(6)}\")\n",
    "\n",
    "def preimagen_finder(function , y_value):\n",
    "    equation = Eq(function , y_value)\n",
    "    solutions = solve(equation , x)\n",
    "    decimal_solutions = [sol.evalf() for sol in solutions]\n",
    "    rounded_solutions = []\n",
    "    for sol in decimal_solutions:\n",
    "        momo= round(sol , 2)\n",
    "        rounded_solutions.append(momo)\n",
    "    return rounded_solutions\n",
    "    \n",
    "            \n",
    "\n",
    "print(f\"Las preimagen de 20 para la funcion n°1 es {preimagen_finder(f(x) , 20)}\")\n",
    "print(f\"Las preimagen de 20 para la funcion n°2 es {preimagen_finder(g(x) , 20)}\")\n",
    "print(f\"Las preimagen de 20 para la funcion n°3 es {preimagen_finder(h(x) , 20)}\")\n",
    "        \n",
    "\n"
   ]
  },
  {
   "cell_type": "markdown",
   "metadata": {},
   "source": [
    "3. Grafique las 3 funciones en un mismo gráfico, visualizando de acuerdo al dominio mencionado, y mostrando una etiqueta que permita identificar a cada función."
   ]
  },
  {
   "cell_type": "code",
   "execution_count": null,
   "metadata": {},
   "outputs": [],
   "source": [
    "import matplotlib.pyplot as plt\n",
    "import numpy as np\n",
    "from sympy import Eq , solve , symbols , exp , evalf\n",
    "\n",
    "x = symbols(\"x\")\n",
    "\n",
    "def f(x):\n",
    "    return (x**2) - (2*x) - 7\n",
    "\n",
    "def g(x):\n",
    "    return (3*x) + 9\n",
    "\n",
    "def h(x):\n",
    "    return 2 * exp(0.4*x)\n",
    "\n",
    "\n",
    "\n",
    "x_values=\n",
    "y_values=\n",
    "\n",
    "\n",
    "\n",
    "plt.grid(True)\n",
    "plt.plot(x_values , y_values)\n",
    "\n",
    "\n",
    "\n",
    "\n"
   ]
  },
  {
   "cell_type": "markdown",
   "metadata": {},
   "source": [
    "4. Determine en qué punto se intersectan las funciones g y h."
   ]
  },
  {
   "cell_type": "code",
   "execution_count": null,
   "metadata": {},
   "outputs": [],
   "source": []
  },
  {
   "cell_type": "markdown",
   "metadata": {},
   "source": [
    "5. Determine en qué puntos se intersectan las funciones f y g."
   ]
  },
  {
   "cell_type": "code",
   "execution_count": null,
   "metadata": {},
   "outputs": [],
   "source": []
  }
 ],
 "metadata": {
  "kernelspec": {
   "display_name": "Python 3",
   "language": "python",
   "name": "python3"
  },
  "language_info": {
   "codemirror_mode": {
    "name": "ipython",
    "version": 3
   },
   "file_extension": ".py",
   "mimetype": "text/x-python",
   "name": "python",
   "nbconvert_exporter": "python",
   "pygments_lexer": "ipython3",
   "version": "3.13.6"
  }
 },
 "nbformat": 4,
 "nbformat_minor": 2
}
