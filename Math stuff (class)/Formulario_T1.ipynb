{
 "cells": [
  {
   "cell_type": "markdown",
   "metadata": {},
   "source": [
    "# Formulario Python para MAT2121"
   ]
  },
  {
   "cell_type": "markdown",
   "metadata": {},
   "source": [
    "## Importar bibliotecas o librerías"
   ]
  },
  {
   "cell_type": "code",
   "execution_count": null,
   "metadata": {},
   "outputs": [],
   "source": [
    "import numpy as np\n",
    "import matplotlib.pyplot as plt\n",
    "from scipy.optimize import fsolve"
   ]
  },
  {
   "cell_type": "markdown",
   "metadata": {},
   "source": [
    "## Manipulación de listas"
   ]
  },
  {
   "cell_type": "code",
   "execution_count": null,
   "metadata": {},
   "outputs": [],
   "source": [
    "lista = [1, 2, 3, 4]\n",
    "primer_elemento = lista[0] #Guarda en variable el 1\n",
    "ultimo_elemento = lista[-1] #Guarda en variable el 4\n",
    "tercer_elemento = lista[2] #Guarda en variable el 3"
   ]
  },
  {
   "cell_type": "markdown",
   "metadata": {},
   "source": [
    "## Definición de una función"
   ]
  },
  {
   "cell_type": "code",
   "execution_count": null,
   "metadata": {},
   "outputs": [],
   "source": [
    "def f(x):\n",
    "    return 2*x+1"
   ]
  },
  {
   "cell_type": "markdown",
   "metadata": {},
   "source": [
    "## Llamar a una función"
   ]
  },
  {
   "cell_type": "code",
   "execution_count": null,
   "metadata": {},
   "outputs": [],
   "source": [
    "resultado = f(4) #el valor de resultado será 9"
   ]
  },
  {
   "cell_type": "markdown",
   "metadata": {},
   "source": [
    "## Graficar una función"
   ]
  },
  {
   "cell_type": "code",
   "execution_count": 1,
   "metadata": {},
   "outputs": [
    {
     "ename": "NameError",
     "evalue": "name 'np' is not defined",
     "output_type": "error",
     "traceback": [
      "\u001b[31m---------------------------------------------------------------------------\u001b[39m",
      "\u001b[31mNameError\u001b[39m                                 Traceback (most recent call last)",
      "\u001b[36mCell\u001b[39m\u001b[36m \u001b[39m\u001b[32mIn[1]\u001b[39m\u001b[32m, line 2\u001b[39m\n\u001b[32m      1\u001b[39m \u001b[38;5;66;03m#Debe estar importado pyplot de matplotlib\u001b[39;00m\n\u001b[32m----> \u001b[39m\u001b[32m2\u001b[39m x = \u001b[43mnp\u001b[49m.arange(inicial,final,paso)\n\u001b[32m      3\u001b[39m plt.plot(x, f(x), label = \u001b[33m'\u001b[39m\u001b[33mf(x)\u001b[39m\u001b[33m'\u001b[39m)\n\u001b[32m      4\u001b[39m plt.axis([inicialx,finalx,inicialy,finaly])\n",
      "\u001b[31mNameError\u001b[39m: name 'np' is not defined"
     ]
    }
   ],
   "source": [
    "#Debe estar importado pyplot de matplotlib\n",
    "x = np.arange(inicial,final,paso)\n",
    "plt.plot(x, f(x), label = 'f(x)')\n",
    "plt.axis([inicialx,finalx,inicialy,finaly])\n",
    "plt.title('Nombre del gráfico')\n",
    "plt.xlabel('Nombre eje x')\n",
    "plt.ylabel('Nombre eje y')\n",
    "plt.grid(True)\n",
    "plt.legend()\n",
    "plt.show()"
   ]
  },
  {
   "cell_type": "markdown",
   "metadata": {},
   "source": [
    "## Encontrar raíces de una función"
   ]
  },
  {
   "cell_type": "code",
   "execution_count": null,
   "metadata": {},
   "outputs": [],
   "source": [
    "#Debe estar importado fsolve de scipy.optimize\n",
    "def g(x):\n",
    "    return #'función igualada a cero'\n",
    "\n",
    "#Valor/es inicial/es de la aproximación\n",
    "xo = np.linspace(inicial,final,cantidad_de_soluciones)\n",
    "solucion = fsolve(f, xo)\n",
    "#Recordar que \"solucion\" es un arreglo que puede tener uno o más valores"
   ]
  }
 ],
 "metadata": {
  "kernelspec": {
   "display_name": "Python 3",
   "language": "python",
   "name": "python3"
  },
  "language_info": {
   "codemirror_mode": {
    "name": "ipython",
    "version": 3
   },
   "file_extension": ".py",
   "mimetype": "text/x-python",
   "name": "python",
   "nbconvert_exporter": "python",
   "pygments_lexer": "ipython3",
   "version": "3.13.6"
  }
 },
 "nbformat": 4,
 "nbformat_minor": 2
}
